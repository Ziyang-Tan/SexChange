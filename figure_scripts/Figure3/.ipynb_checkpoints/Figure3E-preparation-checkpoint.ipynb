{
 "cells": [
  {
   "cell_type": "markdown",
   "id": "7214a954-92c5-4ebb-ba0d-6f86c940ad52",
   "metadata": {
    "tags": []
   },
   "source": [
    "# Preparing for NicheNet - for Figure 3e"
   ]
  },
  {
   "cell_type": "code",
   "execution_count": 1,
   "id": "5c66a7de-4710-48ee-9efa-89f715d0c46c",
   "metadata": {},
   "outputs": [],
   "source": [
    "import anndata as ad\n",
    "import numpy as np\n",
    "import pandas as pd\n",
    "import scanpy as sc"
   ]
  },
  {
   "cell_type": "code",
   "execution_count": 2,
   "id": "7401c2b1-6efc-40f0-92ef-c50fde9ec36c",
   "metadata": {},
   "outputs": [],
   "source": [
    "import warnings\n",
    "warnings.filterwarnings(\"ignore\")"
   ]
  },
  {
   "cell_type": "markdown",
   "id": "ecde3683-fcd8-4459-bcb0-4feaf5007ae0",
   "metadata": {},
   "source": [
    "## Specify adata_paths here"
   ]
  },
  {
   "cell_type": "code",
   "execution_count": 3,
   "id": "47aad3d5-0a1e-473a-a297-d2cdfa4df114",
   "metadata": {},
   "outputs": [],
   "source": [
    "lps_v1_path = '../../data/anndata_folder_scRNAseq/LPSV1.h5ad'#\n",
    "lps_v2_path = '../../data/anndata_folder_scRNAseq/LPSV2.h5ad'#"
   ]
  },
  {
   "cell_type": "code",
   "execution_count": 4,
   "id": "0bcc0804-b35b-4987-934b-54e56c57db5e",
   "metadata": {},
   "outputs": [],
   "source": [
    "lps_v1 = sc.read_h5ad(lps_v1_path)\n",
    "lps_v2 = sc.read_h5ad(lps_v2_path)\n"
   ]
  },
  {
   "cell_type": "code",
   "execution_count": 5,
   "id": "c96c845a-d512-478d-81a5-75621ad8a952",
   "metadata": {},
   "outputs": [],
   "source": [
    "lps_v1.obs['V'] = 'V1'\n",
    "lps_v2.obs['V'] = 'V2'\n",
    "lps_v1.var_names_make_unique()\n",
    "lps_v2.var_names_make_unique()\n",
    "lps_v1.obs_names_make_unique()\n",
    "lps_v2.obs_names_make_unique()\n",
    "\n",
    "\n",
    "add = ad.concat([lps_v1, lps_v2])\n"
   ]
  },
  {
   "cell_type": "code",
   "execution_count": 6,
   "id": "46771284-1c20-490c-9df3-e10ad672d075",
   "metadata": {},
   "outputs": [],
   "source": [
    "sc.pp.normalize_total(add, target_sum = 10000)#and off to NicheNet we go"
   ]
  },
  {
   "cell_type": "code",
   "execution_count": 7,
   "id": "239bb130-8a79-46a1-8b59-994d0cccd737",
   "metadata": {},
   "outputs": [],
   "source": [
    "add.write('nichenet_adata.h5ad')#insert pathway to store anndata here"
   ]
  },
  {
   "cell_type": "markdown",
   "id": "d79c0268-676a-4cae-ab15-22b73d013ae5",
   "metadata": {},
   "source": [
    "\n",
    "## To produce the NicheNet-figure (via R) - run the cell below (it takes a couple of minutes):"
   ]
  },
  {
   "cell_type": "code",
   "execution_count": 8,
   "id": "4496dd83-94ba-4c60-ade8-8b4253c7a947",
   "metadata": {},
   "outputs": [
    {
     "name": "stdout",
     "output_type": "stream",
     "text": [
      "\u001b[?25h── \u001b[1mAttaching packages\u001b[22m ─────────────────────────────────────── tidyverse 1.3.2 ──\n",
      "\u001b[32m✔\u001b[39m \u001b[34mggplot2\u001b[39m 3.4.1     \u001b[32m✔\u001b[39m \u001b[34mpurrr  \u001b[39m 1.0.1\n",
      "\u001b[32m✔\u001b[39m \u001b[34mtibble \u001b[39m 3.1.8     \u001b[32m✔\u001b[39m \u001b[34mdplyr  \u001b[39m 1.1.0\n",
      "\u001b[32m✔\u001b[39m \u001b[34mtidyr  \u001b[39m 1.3.0     \u001b[32m✔\u001b[39m \u001b[34mstringr\u001b[39m 1.5.0\n",
      "\u001b[32m✔\u001b[39m \u001b[34mreadr  \u001b[39m 2.1.4     \u001b[32m✔\u001b[39m \u001b[34mforcats\u001b[39m 1.0.0\n",
      "── \u001b[1mConflicts\u001b[22m ────────────────────────────────────────── tidyverse_conflicts() ──\n",
      "\u001b[31m✖\u001b[39m \u001b[34mdplyr\u001b[39m::\u001b[32mfilter()\u001b[39m masks \u001b[34mstats\u001b[39m::filter()\n",
      "\u001b[31m✖\u001b[39m \u001b[34mdplyr\u001b[39m::\u001b[32mlag()\u001b[39m    masks \u001b[34mstats\u001b[39m::lag()\n",
      "\u001b[?25h\u001b[?25hRegistered S3 method overwritten by 'SeuratDisk':\n",
      "  method            from  \n",
      "  as.sparse.H5Group Seurat\n",
      "\u001b[?25hAttaching SeuratObject\n",
      "\u001b[?25h\n",
      "Attaching package: ‘anndata’\n",
      "\n",
      "The following object is masked from ‘package:readr’:\n",
      "\n",
      "    read_csv\n",
      "\n",
      "\u001b[?25h\u001b[?25h========================================\n",
      "circlize version 0.4.15\n",
      "CRAN page: https://cran.r-project.org/package=circlize\n",
      "Github page: https://github.com/jokergoo/circlize\n",
      "Documentation: https://jokergoo.github.io/circlize_book/book/\n",
      "\n",
      "If you use it in published research, please cite:\n",
      "Gu, Z. circlize implements and enhances circular visualization\n",
      "  in R. Bioinformatics 2014.\n",
      "\n",
      "This message can be suppressed by:\n",
      "  suppressPackageStartupMessages(library(circlize))\n",
      "========================================\n",
      "\n",
      "\u001b[?25h\u001b[?25h\u001b[?25h\u001b[?25h\u001b[?25h\u001b[?25h/Users/rikardforlin/opt/miniconda3/envs/minic/lib/python3.10/site-packages/anndata/_core/anndata.py:1828: UserWarning: Observation names are not unique. To make them unique, call `.obs_names_make_unique`.\n",
      "  utils.warn_names_duplicates(\"obs\")\n",
      "\u001b[?25hWarning messages:\n",
      "1: In py_to_r.pandas.core.frame.DataFrame(x) :\n",
      "  index contains duplicated values: row names not set\n",
      "2: In py_to_r.pandas.core.frame.DataFrame(x) :\n",
      "  index contains duplicated values: row names not set\n",
      "\u001b[?25hWarning message:\n",
      "In asMethod(object) :\n",
      "  sparse->dense coercion: allocating vector of size 1.8 GiB\n",
      "\u001b[?25h\u001b[?25h\u001b[?25h\u001b[?25h\u001b[?25h\u001b[?25h\u001b[?25h\u001b[?25h\u001b[?25h\u001b[?25h\u001b[?25h\u001b[?25h\u001b[?25h\u001b[?25h\u001b[?25h\u001b[?25h\u001b[?25h\u001b[?25h\u001b[?25h\u001b[?25h\u001b[?25h\u001b[?25h\u001b[?25h\u001b[?25h\u001b[?25h\u001b[?25h\u001b[?25h\u001b[?25h\u001b[?25h\u001b[?25h\u001b[?25h\u001b[?25h\u001b[?25h\u001b[?25h\u001b[?25h\u001b[?25h\u001b[?25h\u001b[?25h\u001b[?25h\u001b[?25h\u001b[?25h\u001b[?25h\u001b[?25h\u001b[?25h\u001b[?25h\u001b[?25h [1] \"CCL2\"   \"ANXA1\"  \"IL1A\"   \"ICAM1\"  \"IL1B\"   \"IL1RN\"  \"TGFB1\"  \"TNF\"   \n",
      " [9] \"IL12B\"  \"IL18\"   \"ADAM17\" \"HMGB1\"  \"OSM\"    \"CCL4\"   \"CSF3\"  \n",
      "\u001b[?25h\u001b[?25h\u001b[?25h\u001b[?25h\u001b[?25h\u001b[38;5;246m# A tibble: 100 × 3\u001b[39m\n",
      "   ligand target    weight\n",
      "   \u001b[3m\u001b[38;5;246m<chr>\u001b[39m\u001b[23m  \u001b[3m\u001b[38;5;246m<chr>\u001b[39m\u001b[23m      \u001b[3m\u001b[38;5;246m<dbl>\u001b[39m\u001b[23m\n",
      "\u001b[38;5;250m 1\u001b[39m IL12B  GZMB     0.008\u001b[4m7\u001b[24m\u001b[4m1\u001b[24m\n",
      "\u001b[38;5;250m 2\u001b[39m IL12B  IFNG     0.007\u001b[4m2\u001b[24m\u001b[4m1\u001b[24m\n",
      "\u001b[38;5;250m 3\u001b[39m IL12B  CCL3     0.006\u001b[4m7\u001b[24m\u001b[4m8\u001b[24m\n",
      "\u001b[38;5;250m 4\u001b[39m TGFB1  CCL3     0.006\u001b[4m7\u001b[24m\u001b[4m6\u001b[24m\n",
      "\u001b[38;5;250m 5\u001b[39m TNF    CCL20    0.006\u001b[4m5\u001b[24m\u001b[4m8\u001b[24m\n",
      "\u001b[38;5;250m 6\u001b[39m IL12B  CCL2     0.006\u001b[4m4\u001b[24m\u001b[4m4\u001b[24m\n",
      "\u001b[38;5;250m 7\u001b[39m IL18   IFNG     0.006\u001b[4m4\u001b[24m\u001b[4m0\u001b[24m\n",
      "\u001b[38;5;250m 8\u001b[39m TNF    SERPINB2 0.006\u001b[4m3\u001b[24m\u001b[4m7\u001b[24m\n",
      "\u001b[38;5;250m 9\u001b[39m IL1B   IL1A     0.006\u001b[4m3\u001b[24m\u001b[4m5\u001b[24m\n",
      "\u001b[38;5;250m10\u001b[39m TNF    IL1RN    0.006\u001b[4m3\u001b[24m\u001b[4m2\u001b[24m\n",
      "\u001b[38;5;246m# … with 90 more rows\u001b[39m\n",
      "\u001b[?25h\u001b[?25h\u001b[?25h\u001b[?25h\u001b[?25h\u001b[?25h\u001b[?25h\u001b[?25h\u001b[?25h\u001b[?25h\u001b[1m\u001b[22mJoining with `by = join_by(ligand_type)`\n",
      "\u001b[1m\u001b[22mJoining with `by = join_by(target_type)`\n",
      "\u001b[?25h\u001b[?25h\u001b[?25h\u001b[?25h\u001b[?25h\u001b[?25h\u001b[?25h\u001b[?25h\u001b[?25h\u001b[?25h\u001b[?25h\u001b[?25h\u001b[?25h\u001b[?25h\u001b[?25h\u001b[?25h\u001b[?25h\u001b[?25h\u001b[?25h\u001b[?25h\u001b[?25h\u001b[?25h\u001b[?25h\u001b[?25h"
     ]
    }
   ],
   "source": [
    "!Rscript Figure3E.R"
   ]
  }
 ],
 "metadata": {
  "kernelspec": {
   "display_name": "Python 3 (ipykernel)",
   "language": "python",
   "name": "python3"
  },
  "language_info": {
   "codemirror_mode": {
    "name": "ipython",
    "version": 3
   },
   "file_extension": ".py",
   "mimetype": "text/x-python",
   "name": "python",
   "nbconvert_exporter": "python",
   "pygments_lexer": "ipython3",
   "version": "3.10.6"
  }
 },
 "nbformat": 4,
 "nbformat_minor": 5
}
