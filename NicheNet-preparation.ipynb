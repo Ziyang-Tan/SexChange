{
 "cells": [
  {
   "cell_type": "markdown",
   "id": "7214a954-92c5-4ebb-ba0d-6f86c940ad52",
   "metadata": {
    "tags": []
   },
   "source": [
    "# Preparing for NicheNet - for Figure 3e"
   ]
  },
  {
   "cell_type": "code",
   "execution_count": 1,
   "id": "5c66a7de-4710-48ee-9efa-89f715d0c46c",
   "metadata": {},
   "outputs": [],
   "source": [
    "import anndata as ad\n",
    "import numpy as np\n",
    "import pandas as pd\n",
    "import scanpy as sc"
   ]
  },
  {
   "cell_type": "code",
   "execution_count": 2,
   "id": "7401c2b1-6efc-40f0-92ef-c50fde9ec36c",
   "metadata": {},
   "outputs": [],
   "source": [
    "import warnings\n",
    "warnings.filterwarnings(\"ignore\")"
   ]
  },
  {
   "cell_type": "markdown",
   "id": "ecde3683-fcd8-4459-bcb0-4feaf5007ae0",
   "metadata": {},
   "source": [
    "## Specify adata_paths here"
   ]
  },
  {
   "cell_type": "code",
   "execution_count": 3,
   "id": "47aad3d5-0a1e-473a-a297-d2cdfa4df114",
   "metadata": {},
   "outputs": [],
   "source": [
    "lps_v1_path = 'anndata_folder/LPSV1.h5ad'#\n",
    "lps_v2_path = 'anndata_folder/LPSV2.h5ad'#"
   ]
  },
  {
   "cell_type": "code",
   "execution_count": 4,
   "id": "0bcc0804-b35b-4987-934b-54e56c57db5e",
   "metadata": {},
   "outputs": [],
   "source": [
    "lps_v1 = sc.read_h5ad(lps_v1_path)\n",
    "lps_v2 = sc.read_h5ad(lps_v2_path)\n"
   ]
  },
  {
   "cell_type": "code",
   "execution_count": 5,
   "id": "c96c845a-d512-478d-81a5-75621ad8a952",
   "metadata": {},
   "outputs": [],
   "source": [
    "lps_v1.obs['V'] = 'V1'\n",
    "lps_v2.obs['V'] = 'V2'\n",
    "lps_v1.var_names_make_unique()\n",
    "lps_v2.var_names_make_unique()\n",
    "lps_v1.obs_names_make_unique()\n",
    "lps_v2.obs_names_make_unique()\n",
    "\n",
    "\n",
    "add = ad.concat([lps_v1, lps_v2])\n"
   ]
  },
  {
   "cell_type": "code",
   "execution_count": 6,
   "id": "46771284-1c20-490c-9df3-e10ad672d075",
   "metadata": {},
   "outputs": [],
   "source": [
    "sc.pp.normalize_total(add, target_sum = 10000)#and off to NicheNet we go"
   ]
  },
  {
   "cell_type": "code",
   "execution_count": null,
   "id": "239bb130-8a79-46a1-8b59-994d0cccd737",
   "metadata": {},
   "outputs": [],
   "source": [
    "#add.write('insert pathway to store anndata here') "
   ]
  }
 ],
 "metadata": {
  "kernelspec": {
   "display_name": "Python 3 (ipykernel)",
   "language": "python",
   "name": "python3"
  },
  "language_info": {
   "codemirror_mode": {
    "name": "ipython",
    "version": 3
   },
   "file_extension": ".py",
   "mimetype": "text/x-python",
   "name": "python",
   "nbconvert_exporter": "python",
   "pygments_lexer": "ipython3",
   "version": "3.10.6"
  }
 },
 "nbformat": 4,
 "nbformat_minor": 5
}
